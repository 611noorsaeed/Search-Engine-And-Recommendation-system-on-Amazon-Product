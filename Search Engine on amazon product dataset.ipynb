{
 "cells": [
  {
   "cell_type": "code",
   "execution_count": 1,
   "id": "5ce6164e",
   "metadata": {},
   "outputs": [],
   "source": [
    "import numpy as np\n",
    "import pandas as pd"
   ]
  },
  {
   "cell_type": "markdown",
   "id": "e8291ebe",
   "metadata": {},
   "source": [
    "# Import necessary libraries: Pandas, NumPy, and Natural Language Toolkit (nltk).\n",
    "python\n",
    "Copy code\n"
   ]
  },
  {
   "cell_type": "code",
   "execution_count": 2,
   "id": "24fbb79b",
   "metadata": {},
   "outputs": [],
   "source": [
    "import pandas as pd\n",
    "import numpy as np\n",
    "import nltk"
   ]
  },
  {
   "cell_type": "code",
   "execution_count": 3,
   "id": "95ab4d65",
   "metadata": {},
   "outputs": [],
   "source": [
    "amzon_df = pd.read_csv('amazon_product.csv')"
   ]
  },
  {
   "cell_type": "code",
   "execution_count": 4,
   "id": "28d08c1e",
   "metadata": {},
   "outputs": [
    {
     "data": {
      "text/html": [
       "<div>\n",
       "<style scoped>\n",
       "    .dataframe tbody tr th:only-of-type {\n",
       "        vertical-align: middle;\n",
       "    }\n",
       "\n",
       "    .dataframe tbody tr th {\n",
       "        vertical-align: top;\n",
       "    }\n",
       "\n",
       "    .dataframe thead th {\n",
       "        text-align: right;\n",
       "    }\n",
       "</style>\n",
       "<table border=\"1\" class=\"dataframe\">\n",
       "  <thead>\n",
       "    <tr style=\"text-align: right;\">\n",
       "      <th></th>\n",
       "      <th>id</th>\n",
       "      <th>Title</th>\n",
       "      <th>Description</th>\n",
       "      <th>Category</th>\n",
       "    </tr>\n",
       "  </thead>\n",
       "  <tbody>\n",
       "    <tr>\n",
       "      <th>0</th>\n",
       "      <td>1</td>\n",
       "      <td>Swissmar Capstore Select Storage Rack for 18-...</td>\n",
       "      <td>Swissmar's capstore select 18 storage unit kee...</td>\n",
       "      <td>Home &amp; Kitchen Kitchen &amp; Dining Kitchen Utens...</td>\n",
       "    </tr>\n",
       "    <tr>\n",
       "      <th>1</th>\n",
       "      <td>2</td>\n",
       "      <td>Gemini200 Delta CV-880 Gold Crown Livery Airc...</td>\n",
       "      <td>Welcome to the exciting world of GeminiJets! O...</td>\n",
       "      <td>Toys &amp; Games Hobbies Models &amp; Model Kits Pre-...</td>\n",
       "    </tr>\n",
       "    <tr>\n",
       "      <th>2</th>\n",
       "      <td>5</td>\n",
       "      <td>Superior Threads 10501-2172 Magnifico Cream P...</td>\n",
       "      <td>For quilting and embroidery, this product is m...</td>\n",
       "      <td>Arts, Crafts &amp; Sewing Sewing Thread &amp; Floss S...</td>\n",
       "    </tr>\n",
       "    <tr>\n",
       "      <th>3</th>\n",
       "      <td>6</td>\n",
       "      <td>Fashion Angels Color Rox Hair Chox Kit</td>\n",
       "      <td>Experiment with the haute trend of hair chalki...</td>\n",
       "      <td>Beauty &amp; Personal Care Hair Care Hair Colorin...</td>\n",
       "    </tr>\n",
       "    <tr>\n",
       "      <th>4</th>\n",
       "      <td>8</td>\n",
       "      <td>Union Creative Giant Killing Figure 05: Daisu...</td>\n",
       "      <td>From Union Creative. Turn your display shelf i...</td>\n",
       "      <td>Toys &amp; Games › Action Figures &amp; Statues › Sta...</td>\n",
       "    </tr>\n",
       "  </tbody>\n",
       "</table>\n",
       "</div>"
      ],
      "text/plain": [
       "   id                                              Title  \\\n",
       "0   1   Swissmar Capstore Select Storage Rack for 18-...   \n",
       "1   2   Gemini200 Delta CV-880 Gold Crown Livery Airc...   \n",
       "2   5   Superior Threads 10501-2172 Magnifico Cream P...   \n",
       "3   6            Fashion Angels Color Rox Hair Chox Kit    \n",
       "4   8   Union Creative Giant Killing Figure 05: Daisu...   \n",
       "\n",
       "                                         Description  \\\n",
       "0  Swissmar's capstore select 18 storage unit kee...   \n",
       "1  Welcome to the exciting world of GeminiJets! O...   \n",
       "2  For quilting and embroidery, this product is m...   \n",
       "3  Experiment with the haute trend of hair chalki...   \n",
       "4  From Union Creative. Turn your display shelf i...   \n",
       "\n",
       "                                            Category  \n",
       "0   Home & Kitchen Kitchen & Dining Kitchen Utens...  \n",
       "1   Toys & Games Hobbies Models & Model Kits Pre-...  \n",
       "2   Arts, Crafts & Sewing Sewing Thread & Floss S...  \n",
       "3   Beauty & Personal Care Hair Care Hair Colorin...  \n",
       "4   Toys & Games › Action Figures & Statues › Sta...  "
      ]
     },
     "execution_count": 4,
     "metadata": {},
     "output_type": "execute_result"
    }
   ],
   "source": [
    "amzon_df.head()"
   ]
  },
  {
   "cell_type": "markdown",
   "id": "52a2134a",
   "metadata": {},
   "source": [
    "# Clean the data by removing unnecessary columns and rows. For example, you can remove the \"id\" column."
   ]
  },
  {
   "cell_type": "code",
   "execution_count": 5,
   "id": "178755a9",
   "metadata": {},
   "outputs": [
    {
     "data": {
      "text/html": [
       "<div>\n",
       "<style scoped>\n",
       "    .dataframe tbody tr th:only-of-type {\n",
       "        vertical-align: middle;\n",
       "    }\n",
       "\n",
       "    .dataframe tbody tr th {\n",
       "        vertical-align: top;\n",
       "    }\n",
       "\n",
       "    .dataframe thead th {\n",
       "        text-align: right;\n",
       "    }\n",
       "</style>\n",
       "<table border=\"1\" class=\"dataframe\">\n",
       "  <thead>\n",
       "    <tr style=\"text-align: right;\">\n",
       "      <th></th>\n",
       "      <th>Title</th>\n",
       "      <th>Description</th>\n",
       "      <th>Category</th>\n",
       "    </tr>\n",
       "  </thead>\n",
       "  <tbody>\n",
       "    <tr>\n",
       "      <th>0</th>\n",
       "      <td>Swissmar Capstore Select Storage Rack for 18-...</td>\n",
       "      <td>Swissmar's capstore select 18 storage unit kee...</td>\n",
       "      <td>Home &amp; Kitchen Kitchen &amp; Dining Kitchen Utens...</td>\n",
       "    </tr>\n",
       "    <tr>\n",
       "      <th>1</th>\n",
       "      <td>Gemini200 Delta CV-880 Gold Crown Livery Airc...</td>\n",
       "      <td>Welcome to the exciting world of GeminiJets! O...</td>\n",
       "      <td>Toys &amp; Games Hobbies Models &amp; Model Kits Pre-...</td>\n",
       "    </tr>\n",
       "    <tr>\n",
       "      <th>2</th>\n",
       "      <td>Superior Threads 10501-2172 Magnifico Cream P...</td>\n",
       "      <td>For quilting and embroidery, this product is m...</td>\n",
       "      <td>Arts, Crafts &amp; Sewing Sewing Thread &amp; Floss S...</td>\n",
       "    </tr>\n",
       "    <tr>\n",
       "      <th>3</th>\n",
       "      <td>Fashion Angels Color Rox Hair Chox Kit</td>\n",
       "      <td>Experiment with the haute trend of hair chalki...</td>\n",
       "      <td>Beauty &amp; Personal Care Hair Care Hair Colorin...</td>\n",
       "    </tr>\n",
       "    <tr>\n",
       "      <th>4</th>\n",
       "      <td>Union Creative Giant Killing Figure 05: Daisu...</td>\n",
       "      <td>From Union Creative. Turn your display shelf i...</td>\n",
       "      <td>Toys &amp; Games › Action Figures &amp; Statues › Sta...</td>\n",
       "    </tr>\n",
       "    <tr>\n",
       "      <th>...</th>\n",
       "      <td>...</td>\n",
       "      <td>...</td>\n",
       "      <td>...</td>\n",
       "    </tr>\n",
       "    <tr>\n",
       "      <th>663</th>\n",
       "      <td>Rosemery (Rosemary) - Box of Six 20 Stick Hex...</td>\n",
       "      <td>Six tubes, each containing 20 sticks of incens...</td>\n",
       "      <td>Home &amp; Kitchen Home Décor Home Fragrance Ince...</td>\n",
       "    </tr>\n",
       "    <tr>\n",
       "      <th>664</th>\n",
       "      <td>InterDesign Linus Stacking Organizer Bin, Ext...</td>\n",
       "      <td>The InterDesign Linus Organizer Bins are stack...</td>\n",
       "      <td>Home &amp; Kitchen Kitchen &amp; Dining Storage &amp; Org...</td>\n",
       "    </tr>\n",
       "    <tr>\n",
       "      <th>665</th>\n",
       "      <td>Gourmet Rubber Stamps Diagonal Stripes Stenci...</td>\n",
       "      <td>Gourmet Rubber Stamps-Stencil. This delicious ...</td>\n",
       "      <td>Toys &amp; Games Arts &amp; Crafts Printing &amp; Stamping</td>\n",
       "    </tr>\n",
       "    <tr>\n",
       "      <th>666</th>\n",
       "      <td>Spenco RX Arch Cushion Full Length Comfort Su...</td>\n",
       "      <td>Soft, durable arch support. consumers with gen...</td>\n",
       "      <td>Health &amp; Household › Health Care › Foot Healt...</td>\n",
       "    </tr>\n",
       "    <tr>\n",
       "      <th>667</th>\n",
       "      <td>Car Kits</td>\n",
       "      <td>Kits for Car</td>\n",
       "      <td>Car Accessories</td>\n",
       "    </tr>\n",
       "  </tbody>\n",
       "</table>\n",
       "<p>668 rows × 3 columns</p>\n",
       "</div>"
      ],
      "text/plain": [
       "                                                 Title  \\\n",
       "0     Swissmar Capstore Select Storage Rack for 18-...   \n",
       "1     Gemini200 Delta CV-880 Gold Crown Livery Airc...   \n",
       "2     Superior Threads 10501-2172 Magnifico Cream P...   \n",
       "3              Fashion Angels Color Rox Hair Chox Kit    \n",
       "4     Union Creative Giant Killing Figure 05: Daisu...   \n",
       "..                                                 ...   \n",
       "663   Rosemery (Rosemary) - Box of Six 20 Stick Hex...   \n",
       "664   InterDesign Linus Stacking Organizer Bin, Ext...   \n",
       "665   Gourmet Rubber Stamps Diagonal Stripes Stenci...   \n",
       "666   Spenco RX Arch Cushion Full Length Comfort Su...   \n",
       "667                                           Car Kits   \n",
       "\n",
       "                                           Description  \\\n",
       "0    Swissmar's capstore select 18 storage unit kee...   \n",
       "1    Welcome to the exciting world of GeminiJets! O...   \n",
       "2    For quilting and embroidery, this product is m...   \n",
       "3    Experiment with the haute trend of hair chalki...   \n",
       "4    From Union Creative. Turn your display shelf i...   \n",
       "..                                                 ...   \n",
       "663  Six tubes, each containing 20 sticks of incens...   \n",
       "664  The InterDesign Linus Organizer Bins are stack...   \n",
       "665  Gourmet Rubber Stamps-Stencil. This delicious ...   \n",
       "666  Soft, durable arch support. consumers with gen...   \n",
       "667                                       Kits for Car   \n",
       "\n",
       "                                              Category  \n",
       "0     Home & Kitchen Kitchen & Dining Kitchen Utens...  \n",
       "1     Toys & Games Hobbies Models & Model Kits Pre-...  \n",
       "2     Arts, Crafts & Sewing Sewing Thread & Floss S...  \n",
       "3     Beauty & Personal Care Hair Care Hair Colorin...  \n",
       "4     Toys & Games › Action Figures & Statues › Sta...  \n",
       "..                                                 ...  \n",
       "663   Home & Kitchen Home Décor Home Fragrance Ince...  \n",
       "664   Home & Kitchen Kitchen & Dining Storage & Org...  \n",
       "665    Toys & Games Arts & Crafts Printing & Stamping   \n",
       "666   Health & Household › Health Care › Foot Healt...  \n",
       "667                                    Car Accessories  \n",
       "\n",
       "[668 rows x 3 columns]"
      ]
     },
     "execution_count": 5,
     "metadata": {},
     "output_type": "execute_result"
    }
   ],
   "source": [
    "amzon_df.drop('id',axis=1)"
   ]
  },
  {
   "cell_type": "code",
   "execution_count": 6,
   "id": "25a50cd8",
   "metadata": {},
   "outputs": [
    {
     "name": "stdout",
     "output_type": "stream",
     "text": [
      "<class 'pandas.core.frame.DataFrame'>\n",
      "RangeIndex: 668 entries, 0 to 667\n",
      "Data columns (total 4 columns):\n",
      " #   Column       Non-Null Count  Dtype \n",
      "---  ------       --------------  ----- \n",
      " 0   id           668 non-null    int64 \n",
      " 1   Title        668 non-null    object\n",
      " 2   Description  668 non-null    object\n",
      " 3   Category     668 non-null    object\n",
      "dtypes: int64(1), object(3)\n",
      "memory usage: 21.0+ KB\n"
     ]
    }
   ],
   "source": [
    "amzon_df.info()"
   ]
  },
  {
   "cell_type": "markdown",
   "id": "cd8bbf65",
   "metadata": {},
   "source": [
    "# Define a function that tokenizes and stems the text of the product titles and descriptions using the NLTK library.\n",
    "\n",
    "Overall, this function is useful for preprocessing text data for tasks such as natural language processing and machine learning, where reducing the number of unique words in the text can improve model performance. Stemming can help by reducing each word to its base form, allowing the model to treat variations of the same word (e.g., \"run\", \"running\", \"ran\") as equivalent."
   ]
  },
  {
   "cell_type": "code",
   "execution_count": 7,
   "id": "0845d81b",
   "metadata": {},
   "outputs": [],
   "source": [
    "from nltk.stem.snowball import SnowballStemmer\n",
    "stemmer = SnowballStemmer(\"english\")\n",
    "\n",
    "def tokenize_stem(text):\n",
    "    tokens = nltk.word_tokenize(text.lower())\n",
    "    stem = [stemmer.stem(w) for w in tokens]\n",
    "    return \" \".join(stem)"
   ]
  },
  {
   "cell_type": "markdown",
   "id": "116e6b86",
   "metadata": {},
   "source": [
    "# Create a new column in the DataFrame that contains the stemmed tokens of the product titles and descriptions.\n",
    "In other words, this code is adding a new column to amzon_df that contains the stemmed and tokenized versions of the 'Title' and 'Description' columns. This can be useful for natural language processing tasks such as sentiment analysis or topic modeling."
   ]
  },
  {
   "cell_type": "code",
   "execution_count": 8,
   "id": "cca534b0",
   "metadata": {},
   "outputs": [],
   "source": [
    "amzon_df['stemmed_tokens'] = amzon_df.apply(lambda row: tokenize_stem(row['Title'] + ' ' + row['Description']), axis=1)"
   ]
  },
  {
   "cell_type": "code",
   "execution_count": 9,
   "id": "ccbe4205",
   "metadata": {},
   "outputs": [
    {
     "data": {
      "text/html": [
       "<div>\n",
       "<style scoped>\n",
       "    .dataframe tbody tr th:only-of-type {\n",
       "        vertical-align: middle;\n",
       "    }\n",
       "\n",
       "    .dataframe tbody tr th {\n",
       "        vertical-align: top;\n",
       "    }\n",
       "\n",
       "    .dataframe thead th {\n",
       "        text-align: right;\n",
       "    }\n",
       "</style>\n",
       "<table border=\"1\" class=\"dataframe\">\n",
       "  <thead>\n",
       "    <tr style=\"text-align: right;\">\n",
       "      <th></th>\n",
       "      <th>id</th>\n",
       "      <th>Title</th>\n",
       "      <th>Description</th>\n",
       "      <th>Category</th>\n",
       "      <th>stemmed_tokens</th>\n",
       "    </tr>\n",
       "  </thead>\n",
       "  <tbody>\n",
       "    <tr>\n",
       "      <th>0</th>\n",
       "      <td>1</td>\n",
       "      <td>Swissmar Capstore Select Storage Rack for 18-...</td>\n",
       "      <td>Swissmar's capstore select 18 storage unit kee...</td>\n",
       "      <td>Home &amp; Kitchen Kitchen &amp; Dining Kitchen Utens...</td>\n",
       "      <td>swissmar capstor select storag rack for 18-pac...</td>\n",
       "    </tr>\n",
       "    <tr>\n",
       "      <th>1</th>\n",
       "      <td>2</td>\n",
       "      <td>Gemini200 Delta CV-880 Gold Crown Livery Airc...</td>\n",
       "      <td>Welcome to the exciting world of GeminiJets! O...</td>\n",
       "      <td>Toys &amp; Games Hobbies Models &amp; Model Kits Pre-...</td>\n",
       "      <td>gemini200 delta cv-880 gold crown liveri aircr...</td>\n",
       "    </tr>\n",
       "  </tbody>\n",
       "</table>\n",
       "</div>"
      ],
      "text/plain": [
       "   id                                              Title  \\\n",
       "0   1   Swissmar Capstore Select Storage Rack for 18-...   \n",
       "1   2   Gemini200 Delta CV-880 Gold Crown Livery Airc...   \n",
       "\n",
       "                                         Description  \\\n",
       "0  Swissmar's capstore select 18 storage unit kee...   \n",
       "1  Welcome to the exciting world of GeminiJets! O...   \n",
       "\n",
       "                                            Category  \\\n",
       "0   Home & Kitchen Kitchen & Dining Kitchen Utens...   \n",
       "1   Toys & Games Hobbies Models & Model Kits Pre-...   \n",
       "\n",
       "                                      stemmed_tokens  \n",
       "0  swissmar capstor select storag rack for 18-pac...  \n",
       "1  gemini200 delta cv-880 gold crown liveri aircr...  "
      ]
     },
     "execution_count": 9,
     "metadata": {},
     "output_type": "execute_result"
    }
   ],
   "source": [
    "amzon_df.head(2)"
   ]
  },
  {
   "cell_type": "code",
   "execution_count": 10,
   "id": "6f3ee91d",
   "metadata": {},
   "outputs": [
    {
     "data": {
      "text/plain": [
       "0      swissmar capstor select storag rack for 18-pac...\n",
       "1      gemini200 delta cv-880 gold crown liveri aircr...\n",
       "2      superior thread 10501-2172 magnifico cream puf...\n",
       "3      fashion angel color rox hair chox kit experi w...\n",
       "4      union creativ giant kill figur 05 : daisuk tsu...\n",
       "                             ...                        \n",
       "663    rosemeri ( rosemari ) - box of six 20 stick he...\n",
       "664    interdesign linus stack organ bin , extra larg...\n",
       "665    gourmet rubber stamp diagon stripe stencil , 6...\n",
       "666    spenco rx arch cushion full length comfort sup...\n",
       "667                                  car kit kit for car\n",
       "Name: stemmed_tokens, Length: 668, dtype: object"
      ]
     },
     "execution_count": 10,
     "metadata": {},
     "output_type": "execute_result"
    }
   ],
   "source": [
    "amzon_df['stemmed_tokens']"
   ]
  },
  {
   "cell_type": "markdown",
   "id": "50a9a837",
   "metadata": {},
   "source": [
    "# Define a function that returns the cosine similarity between two documents (in this case, product titles and descriptions).\n",
    "\n",
    "TfidfVectorizer is a text feature extraction tool that creates a numerical representation of text by converting it into a matrix of TF-IDF (Term Frequency-Inverse Document Frequency) features. This matrix can then be used as input for various machine learning algorithms.\n",
    "\n",
    "The tokenizer parameter in TfidfVectorizer is set to tokenize_stem, which is a custom function defined elsewhere in the code that tokenizes and stems text.\n",
    "\n",
    "cosine_similarity is a function in scikit-learn that calculates the cosine similarity between two matrices. In this code, it is used to calculate the cosine similarity between two texts represented as TF-IDF matrices generated by TfidfVectorizer.\n",
    "\n",
    "The cosine_sim function defined in the code takes in two text inputs (txt1 and txt2), uses TfidfVectorizer to generate TF-IDF matrices for them, and then calculates the cosine similarity between these matrices using cosine_similarity. It returns the cosine similarity score as a single value.\n",
    "\n",
    "# what is cosine similarity\n",
    "Cosine similarity is a measure of similarity between two non-zero vectors of an inner product space that measures the cosine of the angle between them. In the context of natural language processing, it is commonly used to measure the similarity between two text documents. The cosine similarity score ranges from 0 to 1, where 0 means no similarity and 1 means identical. The score is calculated based on the frequency of common words or terms in the two documents. The higher the cosine similarity score, the more similar the documents are.\n",
    "\n",
    "# Note:                                           \n",
    "the line return cosine_similarity(tfid_matrix)[0][1] returns the cosine similarity score between two text documents represented by tfid_matrix.\n",
    "\n",
    "\n",
    "\n"
   ]
  },
  {
   "cell_type": "code",
   "execution_count": 11,
   "id": "4f4133a0",
   "metadata": {},
   "outputs": [],
   "source": [
    "from sklearn.feature_extraction.text import TfidfVectorizer\n",
    "from sklearn.metrics.pairwise import cosine_similarity\n",
    "\n",
    "tfidvectorizer = TfidfVectorizer(tokenizer=tokenize_stem)\n",
    "\n",
    "def cosine_sim(txt1,txt2):\n",
    "    tfid_matrix = tfidvectorizer.fit_transform([txt1,txt2])\n",
    "    return cosine_similarity(tfid_matrix)[0][1]"
   ]
  },
  {
   "cell_type": "markdown",
   "id": "3a64c01e",
   "metadata": {},
   "source": [
    "# Define a function that takes a query string and returns a DataFrame with the top 10 most relevant products based on the cosine similarity between the query string and the product titles and descriptions.\n",
    "The tokenize_stem function is called on the query string, which presumably tokenizes and stems the words in the string.\n",
    "The cosine_sim function is used to compute the cosine similarity between the stemmed query and each product's stemmed_tokens column. This function likely calculates the cosine similarity between two vectors.\n",
    "A new column called similarity is added to the amzon_df dataframe using the apply method. This column contains the cosine similarity between the query and each product's stemmed_tokens column.\n",
    "The amzon_df dataframe is sorted in descending order by the similarity column using the sort_values method.\n",
    "The top 10 rows of the sorted dataframe are selected using the head method and the [['Title','Description','Category']] notation is used to return only the specified columns."
   ]
  },
  {
   "cell_type": "code",
   "execution_count": 12,
   "id": "c3d9374b",
   "metadata": {},
   "outputs": [],
   "source": [
    "def search_product(query):\n",
    "    stemmed_query = tokenize_stem(query)\n",
    "    #calcualting cosine similarity between query and stemmed tokens columns\n",
    "    amzon_df['similarity'] = amzon_df['stemmed_tokens'].apply(lambda x:cosine_sim(stemmed_query,x))\n",
    "    res = amzon_df.sort_values(by=['similarity'],ascending=False).head(10)[['Title','Description','Category']]\n",
    "    return res"
   ]
  },
  {
   "cell_type": "code",
   "execution_count": 17,
   "id": "e36938a5",
   "metadata": {},
   "outputs": [
    {
     "data": {
      "text/html": [
       "<div>\n",
       "<style scoped>\n",
       "    .dataframe tbody tr th:only-of-type {\n",
       "        vertical-align: middle;\n",
       "    }\n",
       "\n",
       "    .dataframe tbody tr th {\n",
       "        vertical-align: top;\n",
       "    }\n",
       "\n",
       "    .dataframe thead th {\n",
       "        text-align: right;\n",
       "    }\n",
       "</style>\n",
       "<table border=\"1\" class=\"dataframe\">\n",
       "  <thead>\n",
       "    <tr style=\"text-align: right;\">\n",
       "      <th></th>\n",
       "      <th>Title</th>\n",
       "      <th>Description</th>\n",
       "      <th>Category</th>\n",
       "    </tr>\n",
       "  </thead>\n",
       "  <tbody>\n",
       "    <tr>\n",
       "      <th>10</th>\n",
       "      <td>PURELL ES8 Professional HEALTHY SOAP Foam Ref...</td>\n",
       "      <td>1200 ml refill for Purell ES8 touch-free soap ...</td>\n",
       "      <td>Industrial &amp; Scientific › Janitorial &amp; Sanita...</td>\n",
       "    </tr>\n",
       "    <tr>\n",
       "      <th>541</th>\n",
       "      <td>Remington SP290 for F4790 Shaver (2-Pack)</td>\n",
       "      <td>Technical Features for Remington SP290-2 The R...</td>\n",
       "      <td>Beauty &amp; Personal Care › Shave &amp; Hair Removal...</td>\n",
       "    </tr>\n",
       "    <tr>\n",
       "      <th>176</th>\n",
       "      <td>Angel Soft Professional Series Premium 2-Ply ...</td>\n",
       "      <td>Angel Soft Professional Series offers a qualit...</td>\n",
       "      <td>Health &amp; Household Household Supplies Paper &amp;...</td>\n",
       "    </tr>\n",
       "    <tr>\n",
       "      <th>160</th>\n",
       "      <td>Dixie 8.5\"Medium-Weight Paper Plates by GP PR...</td>\n",
       "      <td>The WiseSize product offering provides a packa...</td>\n",
       "      <td>Health &amp; Household › Household Supplies › Pap...</td>\n",
       "    </tr>\n",
       "    <tr>\n",
       "      <th>206</th>\n",
       "      <td>Filofax 2018 Personal/Compact Academic Week t...</td>\n",
       "      <td>Over the years, the Filofax organizer has evol...</td>\n",
       "      <td>Office Products › Office &amp; School Supplies › ...</td>\n",
       "    </tr>\n",
       "    <tr>\n",
       "      <th>220</th>\n",
       "      <td>Serta iComfort Premium Infant Sleeper Replace...</td>\n",
       "      <td>Replacement cover for the Serta’s icomfort Pre...</td>\n",
       "      <td>Baby Products › Nursery › Bedding › Baby Bedd...</td>\n",
       "    </tr>\n",
       "    <tr>\n",
       "      <th>492</th>\n",
       "      <td>Seventh Generation Baby Overnight Diapers, Fr...</td>\n",
       "      <td>Everyone could use a little sleep. Seventh Gen...</td>\n",
       "      <td>Baby Products Diapering Disposable Diapers</td>\n",
       "    </tr>\n",
       "    <tr>\n",
       "      <th>209</th>\n",
       "      <td>ALEX Toys Artist Studio Ultimate Easel Access...</td>\n",
       "      <td>ALEX Toys Artist Studio Ultimate Easel Accesso...</td>\n",
       "      <td>Toys &amp; Games Arts &amp; Crafts</td>\n",
       "    </tr>\n",
       "    <tr>\n",
       "      <th>523</th>\n",
       "      <td>School Smart 2-Pocket Folders, Green, Pack of...</td>\n",
       "      <td>Compile and file with ease with School Smart's...</td>\n",
       "      <td>Office Products Office &amp; School Supplies Fili...</td>\n",
       "    </tr>\n",
       "    <tr>\n",
       "      <th>390</th>\n",
       "      <td>Elmer's Foam Board, 20 x 28 Inches, 3/16 Inch...</td>\n",
       "      <td>Elmer's Foam Board makes it easier to create e...</td>\n",
       "      <td>Office Products Office &amp; School Supplies Pres...</td>\n",
       "    </tr>\n",
       "  </tbody>\n",
       "</table>\n",
       "</div>"
      ],
      "text/plain": [
       "                                                 Title  \\\n",
       "10    PURELL ES8 Professional HEALTHY SOAP Foam Ref...   \n",
       "541         Remington SP290 for F4790 Shaver (2-Pack)    \n",
       "176   Angel Soft Professional Series Premium 2-Ply ...   \n",
       "160   Dixie 8.5\"Medium-Weight Paper Plates by GP PR...   \n",
       "206   Filofax 2018 Personal/Compact Academic Week t...   \n",
       "220   Serta iComfort Premium Infant Sleeper Replace...   \n",
       "492   Seventh Generation Baby Overnight Diapers, Fr...   \n",
       "209   ALEX Toys Artist Studio Ultimate Easel Access...   \n",
       "523   School Smart 2-Pocket Folders, Green, Pack of...   \n",
       "390   Elmer's Foam Board, 20 x 28 Inches, 3/16 Inch...   \n",
       "\n",
       "                                           Description  \\\n",
       "10   1200 ml refill for Purell ES8 touch-free soap ...   \n",
       "541  Technical Features for Remington SP290-2 The R...   \n",
       "176  Angel Soft Professional Series offers a qualit...   \n",
       "160  The WiseSize product offering provides a packa...   \n",
       "206  Over the years, the Filofax organizer has evol...   \n",
       "220  Replacement cover for the Serta’s icomfort Pre...   \n",
       "492  Everyone could use a little sleep. Seventh Gen...   \n",
       "209  ALEX Toys Artist Studio Ultimate Easel Accesso...   \n",
       "523  Compile and file with ease with School Smart's...   \n",
       "390  Elmer's Foam Board makes it easier to create e...   \n",
       "\n",
       "                                              Category  \n",
       "10    Industrial & Scientific › Janitorial & Sanita...  \n",
       "541   Beauty & Personal Care › Shave & Hair Removal...  \n",
       "176   Health & Household Household Supplies Paper &...  \n",
       "160   Health & Household › Household Supplies › Pap...  \n",
       "206   Office Products › Office & School Supplies › ...  \n",
       "220   Baby Products › Nursery › Bedding › Baby Bedd...  \n",
       "492        Baby Products Diapering Disposable Diapers   \n",
       "209                        Toys & Games Arts & Crafts   \n",
       "523   Office Products Office & School Supplies Fili...  \n",
       "390   Office Products Office & School Supplies Pres...  "
      ]
     },
     "execution_count": 17,
     "metadata": {},
     "output_type": "execute_result"
    }
   ],
   "source": [
    "search_product(' PURELL ES8 Professional HEALTHY SOAP Foam Refill, Fresh Scent Fragrance, 1200 mL Soap Refill for PURELL ES8 Touch-Free Dispenser (Pack of 2) - 7777-02 ')"
   ]
  },
  {
   "cell_type": "code",
   "execution_count": 16,
   "id": "106d518a",
   "metadata": {},
   "outputs": [
    {
     "data": {
      "text/plain": [
       "' PURELL ES8 Professional HEALTHY SOAP Foam Refill, Fresh Scent Fragrance, 1200 mL Soap Refill for PURELL ES8 Touch-Free Dispenser (Pack of 2) - 7777-02 '"
      ]
     },
     "execution_count": 16,
     "metadata": {},
     "output_type": "execute_result"
    }
   ],
   "source": [
    "amzon_df['Title'][10]"
   ]
  },
  {
   "cell_type": "code",
   "execution_count": null,
   "id": "76c254dc",
   "metadata": {},
   "outputs": [],
   "source": []
  }
 ],
 "metadata": {
  "kernelspec": {
   "display_name": "Python 3 (ipykernel)",
   "language": "python",
   "name": "python3"
  },
  "language_info": {
   "codemirror_mode": {
    "name": "ipython",
    "version": 3
   },
   "file_extension": ".py",
   "mimetype": "text/x-python",
   "name": "python",
   "nbconvert_exporter": "python",
   "pygments_lexer": "ipython3",
   "version": "3.10.6"
  }
 },
 "nbformat": 4,
 "nbformat_minor": 5
}
